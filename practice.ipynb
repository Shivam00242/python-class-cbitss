{
  "nbformat": 4,
  "nbformat_minor": 0,
  "metadata": {
    "colab": {
      "provenance": [],
      "authorship_tag": "ABX9TyPUn9bm3uMLnWP+EyRSvRV5",
      "include_colab_link": true
    },
    "kernelspec": {
      "name": "python3",
      "display_name": "Python 3"
    },
    "language_info": {
      "name": "python"
    }
  },
  "cells": [
    {
      "cell_type": "markdown",
      "metadata": {
        "id": "view-in-github",
        "colab_type": "text"
      },
      "source": [
        "<a href=\"https://colab.research.google.com/github/Shivam00242/python-class-cbitss/blob/main/practice.ipynb\" target=\"_parent\"><img src=\"https://colab.research.google.com/assets/colab-badge.svg\" alt=\"Open In Colab\"/></a>"
      ]
    },
    {
      "cell_type": "code",
      "execution_count": null,
      "metadata": {
        "id": "8VLaNwWUQSFI"
      },
      "outputs": [],
      "source": [
        "item=[\"oil\",\"salt\",\"sugar\",\"tea\",\"milk\"]\n",
        "price=[250,50,60,95,45]\n",
        "for i in range(5):\n",
        "  print()"
      ]
    },
    {
      "cell_type": "code",
      "source": [
        "for i in range(1,11):\n",
        "  print(i)\n",
        "  i+=1"
      ],
      "metadata": {
        "colab": {
          "base_uri": "https://localhost:8080/"
        },
        "id": "P6glEvlJMdXn",
        "outputId": "de823ea3-e9e9-4bdb-eaba-24bacc0cb8a1"
      },
      "execution_count": null,
      "outputs": [
        {
          "output_type": "stream",
          "name": "stdout",
          "text": [
            "1\n",
            "2\n",
            "3\n",
            "4\n",
            "5\n",
            "6\n",
            "7\n",
            "8\n",
            "9\n",
            "10\n"
          ]
        }
      ]
    },
    {
      "cell_type": "code",
      "source": [
        "a=11\n",
        "for i in range(1,11):\n",
        "  print(a-i)\n",
        "  i+=1\n",
        "\n"
      ],
      "metadata": {
        "colab": {
          "base_uri": "https://localhost:8080/"
        },
        "id": "mcm_xeDdMt5W",
        "outputId": "55018cca-9ac7-4dfd-9513-3df0e2013bc9"
      },
      "execution_count": null,
      "outputs": [
        {
          "output_type": "stream",
          "name": "stdout",
          "text": [
            "10\n",
            "9\n",
            "8\n",
            "7\n",
            "6\n",
            "5\n",
            "4\n",
            "3\n",
            "2\n",
            "1\n"
          ]
        }
      ]
    },
    {
      "cell_type": "code",
      "source": [
        "name=\"shivam\"\n",
        "for i in range(1,6):\n",
        "  print(name)"
      ],
      "metadata": {
        "colab": {
          "base_uri": "https://localhost:8080/"
        },
        "id": "04GnRDxGNQfH",
        "outputId": "1c2acae3-d24d-42c7-ea83-a05acaa6679e"
      },
      "execution_count": null,
      "outputs": [
        {
          "output_type": "stream",
          "name": "stdout",
          "text": [
            "shivam\n",
            "shivam\n",
            "shivam\n",
            "shivam\n",
            "shivam\n"
          ]
        }
      ]
    },
    {
      "cell_type": "code",
      "source": [
        "for i in range(1,21):\n",
        "  if i % 2 == 0:\n",
        "    print(i)"
      ],
      "metadata": {
        "colab": {
          "base_uri": "https://localhost:8080/"
        },
        "id": "eCzzKKH0Nf4R",
        "outputId": "2c8761d8-9809-4fde-eef5-20439629341a"
      },
      "execution_count": null,
      "outputs": [
        {
          "output_type": "stream",
          "name": "stdout",
          "text": [
            "2\n",
            "4\n",
            "6\n",
            "8\n",
            "10\n",
            "12\n",
            "14\n",
            "16\n",
            "18\n",
            "20\n"
          ]
        }
      ]
    },
    {
      "cell_type": "code",
      "source": [
        "for i in range(1,21):\n",
        "  if i % 2 != 0:\n",
        "   print(i)"
      ],
      "metadata": {
        "colab": {
          "base_uri": "https://localhost:8080/"
        },
        "id": "FLnWFNcGOAxZ",
        "outputId": "7c5a48c7-41de-4344-cbd1-fadbea8a6b73"
      },
      "execution_count": null,
      "outputs": [
        {
          "output_type": "stream",
          "name": "stdout",
          "text": [
            "1\n",
            "3\n",
            "5\n",
            "7\n",
            "9\n",
            "11\n",
            "13\n",
            "15\n",
            "17\n",
            "19\n"
          ]
        }
      ]
    },
    {
      "cell_type": "code",
      "source": [
        "for i in range (1,11):\n",
        "  sqr=i*i\n",
        "  i+=1\n",
        "  print(sqr)"
      ],
      "metadata": {
        "colab": {
          "base_uri": "https://localhost:8080/"
        },
        "id": "1MKbe92EOY-_",
        "outputId": "39cc37f7-8302-4fd1-a63c-05ec608325ad"
      },
      "execution_count": null,
      "outputs": [
        {
          "output_type": "stream",
          "name": "stdout",
          "text": [
            "1\n",
            "4\n",
            "9\n",
            "16\n",
            "25\n",
            "36\n",
            "49\n",
            "64\n",
            "81\n",
            "100\n"
          ]
        }
      ]
    },
    {
      "cell_type": "code",
      "source": [
        "n=int(input(\"enter any number:\"))\n",
        "for i in range(1,11):\n",
        "  table=n*i\n",
        "  print(n,\"x\",i,\"=\",table)\n",
        "  i+=1\n"
      ],
      "metadata": {
        "colab": {
          "base_uri": "https://localhost:8080/"
        },
        "id": "Wny_F6dyO88x",
        "outputId": "684d7864-3bf2-4884-84ca-22ce03d5768b"
      },
      "execution_count": null,
      "outputs": [
        {
          "output_type": "stream",
          "name": "stdout",
          "text": [
            "enter any number:10\n",
            "10 x 1 = 10\n",
            "10 x 2 = 20\n",
            "10 x 3 = 30\n",
            "10 x 4 = 40\n",
            "10 x 5 = 50\n",
            "10 x 6 = 60\n",
            "10 x 7 = 70\n",
            "10 x 8 = 80\n",
            "10 x 9 = 90\n",
            "10 x 10 = 100\n"
          ]
        }
      ]
    },
    {
      "cell_type": "code",
      "source": [
        "num=int(input(\"enter any number:\"))\n",
        "for i in range(1,n):\n",
        "  if"
      ],
      "metadata": {
        "id": "woG4DqYVOYpj"
      },
      "execution_count": null,
      "outputs": []
    },
    {
      "cell_type": "code",
      "source": [
        "sum=0\n",
        "for i in range(1,51):\n",
        "  if i %2 ==0:\n",
        "    sum=i+sum\n",
        "    i+=1\n",
        "print(sum)\n"
      ],
      "metadata": {
        "colab": {
          "base_uri": "https://localhost:8080/"
        },
        "id": "46dMF3_-RDYj",
        "outputId": "ecae9364-6551-456a-b6e2-649251aceac2"
      },
      "execution_count": null,
      "outputs": [
        {
          "output_type": "stream",
          "name": "stdout",
          "text": [
            "650\n"
          ]
        }
      ]
    },
    {
      "cell_type": "code",
      "source": [
        "fact=1\n",
        "for i in range(1,6):\n",
        "  fact=i*fact\n",
        "  i+=1\n",
        "print(fact)\n",
        "\n"
      ],
      "metadata": {
        "colab": {
          "base_uri": "https://localhost:8080/"
        },
        "id": "7UG66sLfUh0i",
        "outputId": "8d7f95a6-f364-46d9-c623-d85e1ebf54cb"
      },
      "execution_count": null,
      "outputs": [
        {
          "output_type": "stream",
          "name": "stdout",
          "text": [
            "120\n"
          ]
        }
      ]
    },
    {
      "cell_type": "code",
      "source": [
        "num=1\n",
        "for i in range(1,101):\n",
        "  if i%3==0 and i%5==0:\n",
        "    num=num+1\n",
        "print(num)"
      ],
      "metadata": {
        "colab": {
          "base_uri": "https://localhost:8080/"
        },
        "id": "bF9vFgsRVIIK",
        "outputId": "e1ac9a18-9e58-490b-95b7-8f10e829f3c7"
      },
      "execution_count": null,
      "outputs": [
        {
          "output_type": "stream",
          "name": "stdout",
          "text": [
            "7\n"
          ]
        }
      ]
    },
    {
      "cell_type": "code",
      "source": [
        "\n",
        "for i in range(5,0,-1):\n",
        "  print(\"*\"*i)\n"
      ],
      "metadata": {
        "colab": {
          "base_uri": "https://localhost:8080/"
        },
        "id": "8LoyBqLPWolH",
        "outputId": "c82c8ef7-9e33-4b20-ef0b-472b2ad37b85"
      },
      "execution_count": null,
      "outputs": [
        {
          "output_type": "stream",
          "name": "stdout",
          "text": [
            "*****\n",
            "****\n",
            "***\n",
            "**\n",
            "*\n"
          ]
        }
      ]
    },
    {
      "cell_type": "code",
      "source": [
        "# 1. Grade Evaluation (Nested if)\n",
        "\n",
        "# Problem:\n",
        "# Input marks for 5 subjects.\n",
        "\n",
        "# If the average ≥ 90 → Grade A\n",
        "\n",
        "# If 80–89 → Grade B\n",
        "\n",
        "# If 70–79 → Grade C\n",
        "\n",
        "# Else → Fail\n",
        "# If any subject is < 35, directly print “Fail” even if the average is high.\n",
        "\n",
        "# Hint: Use nested if inside average check.\n",
        "\n",
        "hindi=int(input(\"enter the marks of hindi:\"))\n",
        "english=int(input(\"enter the marks of english:\"))\n",
        "maths=int(input(\"enter the marks of maths:\"))\n",
        "science=int(input(\"enter the marks of science:\"))\n",
        "sst=int(input(\"enter the marks of sst:\"))\n",
        "average=(hindi+english+maths+science+sst)/5\n",
        "if average>=90 and average<=100:\n",
        "  print(\"Grade A\")\n",
        "elif average>=80 and average<=89:\n",
        "  print(\"Grade B\")\n",
        "elif average>=70 and average<=79:\n",
        "  print(\"Grade B\")\n",
        "else:\n",
        "  print(\"fail\")"
      ],
      "metadata": {
        "colab": {
          "base_uri": "https://localhost:8080/"
        },
        "id": "j4ZWSeYZZ0bg",
        "outputId": "e938c0a8-b299-4a39-b3df-5070abb1ce0a"
      },
      "execution_count": null,
      "outputs": [
        {
          "output_type": "stream",
          "name": "stdout",
          "text": [
            "enter the marks of hindi:50\n",
            "enter the marks of english:80\n",
            "enter the marks of maths:90\n",
            "enter the marks of science:100\n",
            "enter the marks of sst:100\n",
            "Grade B\n"
          ]
        }
      ]
    },
    {
      "cell_type": "code",
      "source": [
        "# 2. Triangle Type Checker\n",
        "\n",
        "# Problem:\n",
        "# Input three sides of a triangle.\n",
        "# Check:\n",
        "\n",
        "# If valid triangle (sum of any two sides > third).\n",
        "\n",
        "# If valid → check if it’s equilateral, isosceles, or scalene.\n",
        "\n",
        "# Hint: Use nested if after checking validity.\n",
        "side1=int(input(\"enter 1st side:\"))\n",
        "side2=int(input(\"enter 2nd side:\"))\n",
        "side3=int(input(\"enter 3er side:\"))\n",
        "if side1+side2 > side3 :\n",
        "  print(\"valide triangle\")\n",
        "  if side1==side2==side3:\n",
        "    print(\"equilateral triangle\")\n",
        "  elif side1==side2 or side2==side3 or side3==side1:\n",
        "    print(\"isosceles triangle\")\n",
        "  else:\n",
        "    print(\"scalene triangle\")\n",
        "else:\n",
        "  print(\"not a validity triangal\")\n"
      ],
      "metadata": {
        "colab": {
          "base_uri": "https://localhost:8080/"
        },
        "id": "aYuGSQP2fhm0",
        "outputId": "f3eff826-1bb0-43c5-8107-44487b1574cf"
      },
      "execution_count": null,
      "outputs": [
        {
          "output_type": "stream",
          "name": "stdout",
          "text": [
            "enter 1st side:4\n",
            "enter 2nd side:5\n",
            "enter 3er side:6\n",
            "valide triangle\n",
            "scalene triangle\n"
          ]
        }
      ]
    },
    {
      "cell_type": "code",
      "source": [
        "# 3. Leap Year or Century Year\n",
        "\n",
        "# Problem:\n",
        "# Input a year.\n",
        "# Print whether it’s a leap year, a century year, both, or neither.\n",
        "\n",
        "# Hint: A leap year is divisible by 4 but not 100, except if divisible by 400.\n",
        "year=int(input(\"enter the year:\"))\n",
        "if year % 4==0 and year %100!=0 or year % 400 == 0:\n",
        "    print(\"leap year\")\n",
        "else:\n",
        "    print(\"not a leap year\")\n"
      ],
      "metadata": {
        "colab": {
          "base_uri": "https://localhost:8080/"
        },
        "id": "O3F6oa2dhg_J",
        "outputId": "48d57740-ab97-4183-b0fa-1cd04801cff9"
      },
      "execution_count": null,
      "outputs": [
        {
          "output_type": "stream",
          "name": "stdout",
          "text": [
            "enter the year:2400\n",
            "leap year\n"
          ]
        }
      ]
    },
    {
      "cell_type": "code",
      "source": [
        "# 4. ATM Withdrawal\n",
        "\n",
        "# Problem:\n",
        "# Input:\n",
        "\n",
        "# Withdrawal amount\n",
        "\n",
        "# Account balance\n",
        "# Rules:\n",
        "\n",
        "# Amount must be multiple of 100\n",
        "\n",
        "# Amount ≤ balance\n",
        "\n",
        "# Bank charge ₹10 per transaction\n",
        "\n",
        "# Print updated balance or reason for failure.\n",
        "balance=1000000\n",
        "withdrawal_amount=int(input(\"Enter the withdrawal amount:\"))\n",
        "charge=10\n",
        "if withdrawal_amount % 100 == 0 and withdrawal_amount <= balance:\n",
        "  remaining=balance-withdrawal_amount\n",
        "  total_balance=balance-charge\n",
        "  print(\"----------------------\")\n",
        "  print(\"withdrawal amount:\",withdrawal_amount)\n",
        "  print(\"bank charge per transaction:\",charge)\n",
        "  print(\"______________________\")\n",
        "  print(\"total balance\",total_balance)\n",
        "else:\n",
        "  print(\"insficent balance\")\n",
        "\n",
        "\n"
      ],
      "metadata": {
        "id": "uPx8Il-gjNyk",
        "colab": {
          "base_uri": "https://localhost:8080/"
        },
        "outputId": "46c201bb-3a34-44ec-f011-c7acfa7dd98b"
      },
      "execution_count": null,
      "outputs": [
        {
          "output_type": "stream",
          "name": "stdout",
          "text": [
            "Enter the withdrawal amount:10000\n",
            "----------------------\n",
            "withdrawal amount: 10000\n",
            "bank charge per transaction: 10\n",
            "______________________\n",
            "total balance 999990\n"
          ]
        }
      ]
    },
    {
      "cell_type": "code",
      "source": [
        "# 9. Employee Bonus System\n",
        "\n",
        "# Problem:\n",
        "# Input employee salary and years of service.\n",
        "# Rules:\n",
        "\n",
        "# If service ≥ 10 years → 10% bonus\n",
        "\n",
        "# If 6–9 years → 8%\n",
        "\n",
        "# If 3–5 years → 5%\n",
        "\n",
        "# Otherwise → No bonus\n",
        "# If salary < ₹20,000 → Add 2% extra bonus.\n",
        "salary=int(input(\"Enter the salary:\"))\n",
        "service=int(input(\"Enter the years of serivice:\"))\n",
        "if service>=10:\n",
        "  bonus=salary*(10/100)\n",
        "elif service>=6 and service<=9:\n",
        "  bonus=salary*(8/100)\n",
        "elif service>=3 and service<=5:\n",
        "  bonus=salary*(5/100)\n",
        "print(\"bonus=\",bonus)"
      ],
      "metadata": {
        "id": "DSreWZhTmWXm",
        "colab": {
          "base_uri": "https://localhost:8080/"
        },
        "outputId": "0857415d-ac3d-41aa-bea3-aedf05ed1c1e"
      },
      "execution_count": 2,
      "outputs": [
        {
          "output_type": "stream",
          "name": "stdout",
          "text": [
            "Enter the salary:45000\n",
            "Enter the years of serivice:6\n",
            "bonus= 3600.0\n"
          ]
        }
      ]
    },
    {
      "cell_type": "code",
      "source": [
        "# 11. Parking Fee System\n",
        "\n",
        "# Problem:\n",
        "# Input type of vehicle and hours parked.\n",
        "# Rules:\n",
        "\n",
        "# Bike: ₹10/hr up to 5 hrs, after that ₹8/hr\n",
        "\n",
        "# Car: ₹20/hr up to 5 hrs, after that ₹15/hr\n",
        "\n",
        "# Truck: ₹50/hr fixed\n",
        "# Add 5% tax on total\n",
        "vehicle=input(\"Type of vehicle:\")\n",
        "hours=int(input(\"Hours parked:\"))\n",
        "if vehicle==\"car\":\n",
        "  if hours<=5:\n",
        "   bill=20*hours\n",
        "  else:\n",
        "   bill=15*hours\n",
        "elif vehicle==\"bike\":\n",
        "  if hours<=5:\n",
        "   bill=10*hours\n",
        "  else:\n",
        "   bill=8*hours\n",
        "elif vehicle==\"truck\":\n",
        "  bill=50*hours\n",
        "print(\"Total bill\",bill+(bill*(5/100)) )\n",
        "\n"
      ],
      "metadata": {
        "colab": {
          "base_uri": "https://localhost:8080/"
        },
        "id": "LJjntcF2nRWY",
        "outputId": "4e8f9d51-8823-44bd-d94f-551fd8ba85cb"
      },
      "execution_count": 7,
      "outputs": [
        {
          "output_type": "stream",
          "name": "stdout",
          "text": [
            "Type of vehicle:car\n",
            "Hours parked:5\n",
            "Total bill 105.0\n"
          ]
        }
      ]
    },
    {
      "cell_type": "code",
      "source": [
        "# 13. Railway Ticket Fare\n",
        "\n",
        "# Problem:\n",
        "# Input passenger age and class (General, Sleeper, AC).\n",
        "\n",
        "# General: ₹100\n",
        "\n",
        "# Sleeper: ₹200\n",
        "\n",
        "# AC: ₹400\n",
        "# Discounts:\n",
        "\n",
        "# Children (<10) → 50% off\n",
        "\n",
        "# Senior (>60) → 30% off\n",
        "\n",
        "# Otherwise → no discount\n",
        "age=int(input(\"Enter the age :\"))\n",
        "class_=input(\"Enter the class:\")\n",
        "general=100\n",
        "sleeper=200\n",
        "ac=400\n",
        "if age <10 and class_ == \"general\" :\n",
        "  print(\"price of ticket=\",general*(50/100))\n",
        "elif age <10 and class_ == \"sleeper\" :\n",
        "  print(\"price of ticket=\",sleeper*(50/100))\n",
        "elif age <10 and class_ == \"ac\" :\n",
        "  print(\"price of ticket=\",ac*(50/100))\n",
        "elif age >60 and class_ == \"general\" :\n",
        "  print(\"price of ticket=\",general*(30/100))\n",
        "elif age >60 and class_ == \"sleeper\" :\n",
        "  print(\"price of ticket=\",sleeper*(30/100))\n",
        "elif age >60 and class_ == \"ac\" :\n",
        "  print(\"price of ticket=\",ac*(30/100))\n",
        "elif class_ == \"general\" :\n",
        "  print(\"price of ticket=\",general)\n",
        "elif class_ == \"sleeper\" :\n",
        "  print(\"price of ticket=\",sleeper)\n",
        "elif class_ == \"ac\" :\n",
        "  print(\"price of ticket=\",ac)"
      ],
      "metadata": {
        "colab": {
          "base_uri": "https://localhost:8080/"
        },
        "id": "x3PA8HbVrgub",
        "outputId": "26e305fa-786e-40f1-bc61-4d71e3f2527a"
      },
      "execution_count": 11,
      "outputs": [
        {
          "output_type": "stream",
          "name": "stdout",
          "text": [
            "Enter the age :65\n",
            "Enter the class:ac\n",
            "price of ticket= 120.0\n"
          ]
        }
      ]
    }
  ]
}