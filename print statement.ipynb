{
  "nbformat": 4,
  "nbformat_minor": 0,
  "metadata": {
    "colab": {
      "provenance": [],
      "authorship_tag": "ABX9TyOlxUlxqovJVqmL16KKoRzd",
      "include_colab_link": true
    },
    "kernelspec": {
      "name": "python3",
      "display_name": "Python 3"
    },
    "language_info": {
      "name": "python"
    }
  },
  "cells": [
    {
      "cell_type": "markdown",
      "metadata": {
        "id": "view-in-github",
        "colab_type": "text"
      },
      "source": [
        "<a href=\"https://colab.research.google.com/github/Shivam00242/python-class-cbitss/blob/main/print%20statement.ipynb\" target=\"_parent\"><img src=\"https://colab.research.google.com/assets/colab-badge.svg\" alt=\"Open In Colab\"/></a>"
      ]
    },
    {
      "cell_type": "code",
      "execution_count": 1,
      "metadata": {
        "colab": {
          "base_uri": "https://localhost:8080/"
        },
        "id": "urCH55uE-p-6",
        "outputId": "23bc7d36-e625-4841-bf16-03fcd8548f53"
      },
      "outputs": [
        {
          "output_type": "stream",
          "name": "stdout",
          "text": [
            "hi i am shivam\n"
          ]
        }
      ],
      "source": [
        "print(\"hi i am shivam\")"
      ]
    },
    {
      "cell_type": "code",
      "source": [
        "# CODE FOR BIO DATA\n",
        "print(\"------bio data------\")\n",
        "print(\"NAME     :  SHIVAM\")\n",
        "print(\"AGE      :  21\")\n",
        "print(\"CLASS    :  PYTHON\")\n",
        "print(\"address  :  DHARAMSHALA (HP)\")\n",
        "print(\"MOBILE NO:  9418281719\")\n",
        "print(\"EMAIL    :  shivambhatt00242@gmail.com\")\n",
        "print(\"EDUCATION:  BCA GRADUATE\")"
      ],
      "metadata": {
        "colab": {
          "base_uri": "https://localhost:8080/"
        },
        "id": "OhQ6wSB9DqqU",
        "outputId": "77f1f125-6a07-4d53-aabf-a0fd79613944"
      },
      "execution_count": 5,
      "outputs": [
        {
          "output_type": "stream",
          "name": "stdout",
          "text": [
            "------bio data------\n",
            "NAME     :  SHIVAM\n",
            "AGE      :  21\n",
            "CLASS    :  PYTHON\n",
            "address  :  DHARAMSHALA (HP)\n",
            "MOBILE NO:  9418281719\n",
            "EMAIL    :  shivambhatt00242@gmail.com\n",
            "EDUCATION:  BCA GRADUATE\n"
          ]
        }
      ]
    }
  ]
}