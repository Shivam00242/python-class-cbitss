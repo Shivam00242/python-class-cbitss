{
  "cells": [
    {
      "cell_type": "markdown",
      "metadata": {
        "id": "view-in-github",
        "colab_type": "text"
      },
      "source": [
        "<a href=\"https://colab.research.google.com/github/Shivam00242/python-class-cbitss/blob/main/pythonclass.ipynb\" target=\"_parent\"><img src=\"https://colab.research.google.com/assets/colab-badge.svg\" alt=\"Open In Colab\"/></a>"
      ]
    },
    {
      "cell_type": "code",
      "execution_count": null,
      "metadata": {
        "colab": {
          "base_uri": "https://localhost:8080/"
        },
        "id": "urCH55uE-p-6",
        "outputId": "23bc7d36-e625-4841-bf16-03fcd8548f53"
      },
      "outputs": [
        {
          "name": "stdout",
          "output_type": "stream",
          "text": [
            "hi i am shivam\n"
          ]
        }
      ],
      "source": [
        "print(\"hi i am shivam\")"
      ]
    },
    {
      "cell_type": "code",
      "execution_count": null,
      "metadata": {
        "colab": {
          "base_uri": "https://localhost:8080/"
        },
        "id": "OhQ6wSB9DqqU",
        "outputId": "77f1f125-6a07-4d53-aabf-a0fd79613944"
      },
      "outputs": [
        {
          "name": "stdout",
          "output_type": "stream",
          "text": [
            "------bio data------\n",
            "NAME     :  SHIVAM\n",
            "AGE      :  21\n",
            "CLASS    :  PYTHON\n",
            "address  :  DHARAMSHALA (HP)\n",
            "MOBILE NO:  9418281719\n",
            "EMAIL    :  shivambhatt00242@gmail.com\n",
            "EDUCATION:  BCA GRADUATE\n"
          ]
        }
      ],
      "source": [
        "# CODE FOR BIO DATA\n",
        "print(\"------bio data------\")\n",
        "print(\"NAME     :  SHIVAM\")\n",
        "print(\"AGE      :  21\")\n",
        "print(\"CLASS    :  PYTHON\")\n",
        "print(\"address  :  DHARAMSHALA (HP)\")\n",
        "print(\"MOBILE NO:  9418281719\")\n",
        "print(\"EMAIL    :  shivambhatt00242@gmail.com\")\n",
        "print(\"EDUCATION:  BCA GRADUATE\")"
      ]
    },
    {
      "cell_type": "code",
      "execution_count": null,
      "metadata": {
        "colab": {
          "base_uri": "https://localhost:8080/"
        },
        "id": "qD0DjR--ICVH",
        "outputId": "46f7f77b-5965-4589-d8b1-420a6702eb38"
      },
      "outputs": [
        {
          "name": "stdout",
          "output_type": "stream",
          "text": [
            " My name is Shivam 21 my age is 21 from dharamshala (HP)\n"
          ]
        }
      ],
      "source": [
        "Name=\"Shivam\"\n",
        "age= 21\n",
        "address=\"dharamshala (HP)\"\n",
        "print(\" My name is\",Name,\"my age is\",age,\"from\",address)\n"
      ]
    },
    {
      "cell_type": "code",
      "execution_count": null,
      "metadata": {
        "colab": {
          "base_uri": "https://localhost:8080/"
        },
        "id": "Ug_5944PH7HJ",
        "outputId": "3a0f3c05-c991-4953-ce39-c6e2c6f1a4a7"
      },
      "outputs": [
        {
          "name": "stdout",
          "output_type": "stream",
          "text": [
            "first number=500\n",
            "second number=100\n",
            "sum= 600\n",
            "subtraction= 400\n",
            "product= 50000\n",
            "division= 5.0\n"
          ]
        }
      ],
      "source": [
        "first_num=int(input(\"first number=\"))\n",
        "second_num=int(input(\"second number=\"))\n",
        "sum=first_num+second_num\n",
        "sub=first_num-second_num\n",
        "product=first_num*second_num\n",
        "div=first_num/second_num\n",
        "print(\"sum=\",sum)\n",
        "print(\"subtraction=\",sub)\n",
        "print(\"product=\",product)\n",
        "print(\"division=\",div)\n"
      ]
    },
    {
      "cell_type": "code",
      "execution_count": null,
      "metadata": {
        "colab": {
          "base_uri": "https://localhost:8080/"
        },
        "id": "dRxmNQ9XLhfg",
        "outputId": "d4ca5992-fd4e-43e4-cb65-7b8ba50290d2"
      },
      "outputs": [
        {
          "name": "stdout",
          "output_type": "stream",
          "text": [
            "      billu da dhaba      \n",
            "__________bill___________\n",
            "pizza = 250\n",
            "coke = 40\n",
            "chips = 20\n",
            "dal chawal = 150\n",
            "tanduri roti = 80\n",
            "---------------------------\n",
            "Discount is = 54.0\n",
            "total = 540\n",
            "------------------------\n",
            "total amount to pay= 486.0\n"
          ]
        }
      ],
      "source": [
        "# 10% discount on grand total\n",
        "item1=\"pizza\"\n",
        "item2=\"coke\"\n",
        "item3=\"chips\"\n",
        "item4=\"dal chawal\"\n",
        "item5=\"tanduri roti\"\n",
        "price_of_item1=250\n",
        "price_of_item2=40\n",
        "price_of_item3=20\n",
        "price_of_item4=150\n",
        "price_of_item5=80\n",
        "print(\"      billu da dhaba      \")\n",
        "print(\"__________bill___________\")\n",
        "print(item1,\"=\",price_of_item1)\n",
        "print(item2,\"=\",price_of_item2)\n",
        "print(item3,\"=\",price_of_item3)\n",
        "print(item4,\"=\",price_of_item4)\n",
        "print(item5,\"=\",price_of_item5)\n",
        "print(\"---------------------------\")\n",
        "sum=price_of_item1+price_of_item2+price_of_item3+price_of_item4+price_of_item5\n",
        "discount=sum*(10/100)\n",
        "print(\"Discount is =\",discount)\n",
        "print(\"total =\",sum)\n",
        "print(\"------------------------\")\n",
        "print(\"total amount to pay=\",sum-discount)\n",
        "\n"
      ]
    },
    {
      "cell_type": "code",
      "execution_count": null,
      "metadata": {
        "colab": {
          "base_uri": "https://localhost:8080/"
        },
        "id": "jeyVL5RnL4J8",
        "outputId": "51e4ff3a-8552-4d57-e68d-3ca681d17da1"
      },
      "outputs": [
        {
          "name": "stdout",
          "output_type": "stream",
          "text": [
            "enter item 1:coke\n",
            "enter item 2:pizza\n",
            "enter item 3:roti\n",
            "enter item 4:dal\n",
            "enter item 5:alu\n",
            "      billu da dhaba      \n",
            "__________bill___________\n",
            "coke = 250\n",
            "pizza = 40\n",
            "roti = 20\n",
            "dal = 150\n",
            "alu = 80\n",
            "---------------------------\n",
            "Discount coke is = 47.5\n",
            "Discount pizza is = 2.0\n",
            "Discount roti is = 4.4\n",
            "Discount dal is = 22.5\n",
            "Discount alu is = 9.6\n",
            "total discount is= 86.0\n",
            "total = 540\n",
            "------------------------\n",
            "total amount to pay= 454.0\n",
            "----------------------\n",
            "Delivery address: House no.3,Janta nagar,\n",
            "  \t \t  Punjab,100568\n"
          ]
        }
      ],
      "source": [
        "# discount on each item\n",
        "item1=\"pizza\"\n",
        "item2=\"coke\"\n",
        "item3=\"chips\"\n",
        "item4=\"dal chawal\"\n",
        "item5=\"tanduri roti\"\n",
        "price_of_item1=250\n",
        "price_of_item2=40\n",
        "price_of_item3=20\n",
        "price_of_item4=150\n",
        "price_of_item5=80\n",
        "print(\"      billu da dhaba      \")\n",
        "print(\"__________bill___________\")\n",
        "print(item1,\"=\",price_of_item1)\n",
        "print(item2,\"=\",price_of_item2)\n",
        "print(item3,\"=\",price_of_item3)\n",
        "print(item4,\"=\",price_of_item4)\n",
        "print(item5,\"=\",price_of_item5)\n",
        "print(\"---------------------------\")\n",
        "sum=price_of_item1+price_of_item2+price_of_item3+price_of_item4+price_of_item5\n",
        "discount_item1=price_of_item1*(19/100)\n",
        "discount_item2=price_of_item2*(5/100)\n",
        "discount_item3=price_of_item3*(22/100)\n",
        "discount_item4=price_of_item4*(15/100)\n",
        "discount_item5=price_of_item5*(12/100)\n",
        "print(\"Discount\",item1, \"is =\",discount_item1)\n",
        "print(\"Discount\",item2, \"is =\",discount_item2)\n",
        "print(\"Discount\",item3, \"is =\",discount_item3)\n",
        "print(\"Discount\",item4, \"is =\",discount_item4)\n",
        "print(\"Discount\",item5, \"is =\",discount_item5)\n",
        "total_discount=discount_item1+discount_item2+discount_item3+discount_item4+discount_item5\n",
        "print(\"total discount is=\",total_discount)\n",
        "print(\"total =\",sum)\n",
        "print(\"------------------------\")\n",
        "print(\"total amount to pay=\",sum-total_discount)\n",
        "print(\"----------------------\")\n",
        "print(\"Delivery address: House no.3,Janta nagar,\\n  \\t \\t  Punjab,100568\")\n",
        "\n",
        "\n",
        "\n",
        "\n"
      ]
    },
    {
      "cell_type": "code",
      "execution_count": null,
      "metadata": {
        "id": "7W-JDKQHSV8n"
      },
      "outputs": [],
      "source": []
    },
    {
      "cell_type": "code",
      "execution_count": null,
      "metadata": {
        "colab": {
          "base_uri": "https://localhost:8080/"
        },
        "id": "HBHw1l76R1fd",
        "outputId": "6364fc6b-74e2-4f68-898a-1dbf7132278a"
      },
      "outputs": [
        {
          "name": "stdout",
          "output_type": "stream",
          "text": [
            "      billu da dhaba      \n",
            "__________bill___________\n",
            "pizza = 250\n",
            "coke = 40\n",
            "chips = 20\n",
            "dal chawal = 150\n",
            "tanduri roti = 80\n",
            "---------------------------\n",
            "Discount pizza is = 47.5\n",
            "Discount coke is = 2.0\n",
            "Discount chips is = 4.4\n",
            "Discount dal chawal is = 22.5\n",
            "Discount tanduri roti is = 9.6\n",
            "total discount is= 86.0\n",
            "total = 540\n",
            "------------------------\n",
            "extra 6% dicount : 27.24\n",
            "total amount to pay : 426.76\n"
          ]
        }
      ],
      "source": [
        "# if total is more than 300 extra 5% discout\n",
        "item1=\"pizza\"\n",
        "item2=\"coke\"\n",
        "item3=\"chips\"\n",
        "item4=\"dal chawal\"\n",
        "item5=\"tanduri roti\"\n",
        "price_of_item1=250\n",
        "price_of_item2=40\n",
        "price_of_item3=20\n",
        "price_of_item4=150\n",
        "price_of_item5=80\n",
        "print(\"      billu da dhaba      \")\n",
        "print(\"__________bill___________\")\n",
        "print(item1,\"=\",price_of_item1)\n",
        "print(item2,\"=\",price_of_item2)\n",
        "print(item3,\"=\",price_of_item3)\n",
        "print(item4,\"=\",price_of_item4)\n",
        "print(item5,\"=\",price_of_item5)\n",
        "print(\"---------------------------\")\n",
        "sum=price_of_item1+price_of_item2+price_of_item3+price_of_item4+price_of_item5\n",
        "discount_item1=price_of_item1*(19/100)\n",
        "discount_item2=price_of_item2*(5/100)\n",
        "discount_item3=price_of_item3*(22/100)\n",
        "discount_item4=price_of_item4*(15/100)\n",
        "discount_item5=price_of_item5*(12/100)\n",
        "print(\"Discount\",item1, \"is =\",discount_item1)\n",
        "print(\"Discount\",item2, \"is =\",discount_item2)\n",
        "print(\"Discount\",item3, \"is =\",discount_item3)\n",
        "print(\"Discount\",item4, \"is =\",discount_item4)\n",
        "print(\"Discount\",item5, \"is =\",discount_item5)\n",
        "total_discount=discount_item1+discount_item2+discount_item3+discount_item4+discount_item5\n",
        "print(\"total discount is=\",total_discount)\n",
        "print(\"total =\",sum)\n",
        "print(\"------------------------\")\n",
        "grand_total=sum-total_discount\n",
        "if grand_total > 300:\n",
        "  discount_5=grand_total*(6/100)\n",
        "\n",
        "  print(\"extra 6% dicount :\",discount_5)\n",
        "  print(\"total amount to pay :\",grand_total-discount_5)\n",
        "else:\n",
        "  print(\"total amount to pay\",grand_total)\n",
        "\n"
      ]
    },
    {
      "cell_type": "code",
      "execution_count": null,
      "metadata": {
        "colab": {
          "base_uri": "https://localhost:8080/"
        },
        "id": "ki5A-vkIWPLf",
        "outputId": "6e5f8b4f-f4e3-4ea0-8eba-ad43f9db6e6d"
      },
      "outputs": [
        {
          "name": "stdout",
          "output_type": "stream",
          "text": [
            "enter item 1:chips\n",
            "enter item 2:coke\n",
            "enter item 3:dal roti\n",
            "enter item 4:tanduri roti\n",
            "enter item 5:alu chole\n"
          ]
        }
      ],
      "source": [
        "item1=input(\"enter item 1:\")\n",
        "item2=input(\"enter item 2:\")\n",
        "item3=input(\"enter item 3:\")\n",
        "item4=input(\"enter item 4:\")\n",
        "item5=input(\"enter item 5:\")\n"
      ]
    },
    {
      "cell_type": "code",
      "execution_count": null,
      "metadata": {
        "colab": {
          "base_uri": "https://localhost:8080/"
        },
        "id": "OrOOUAobWtwU",
        "outputId": "d8c5ee54-5ca0-443b-cce6-7bb15faffcf3"
      },
      "outputs": [
        {
          "name": "stdout",
          "output_type": "stream",
          "text": [
            "enter item 1:pizza\n",
            "enter item 2:chips\n",
            "Enter the price of item 1:562\n",
            "Enter the price of item 2:40\n",
            "-------------------------------\n",
            "total bill is : 602\n"
          ]
        }
      ],
      "source": [
        "item1=input(\"enter item 1:\")\n",
        "item2=input(\"enter item 2:\")\n",
        "price_item1=int(input(\"Enter the price of item 1:\"))\n",
        "price_item2=int(input(\"Enter the price of item 2:\"))\n",
        "print(\"-------------------------------\")\n",
        "print(\"total bill is :\",price_item1+price_item2)"
      ]
    },
    {
      "cell_type": "code",
      "execution_count": null,
      "metadata": {
        "colab": {
          "base_uri": "https://localhost:8080/"
        },
        "id": "whp_sI2VYW5g",
        "outputId": "66e7ad64-cfe5-4e35-da14-95ec0f1da222"
      },
      "outputs": [
        {
          "name": "stdout",
          "output_type": "stream",
          "text": [
            "Enter the value of num 1 :200\n",
            "Enter the value of num 2 :100\n",
            "----------------------------\n",
            "addition of 2 number is: 300\n",
            "subtraction of 2 number is: 100\n",
            "division of 2 number is: 2.0\n",
            "product of 2 number is: 20000\n"
          ]
        }
      ],
      "source": [
        "num_1=int(input(\"Enter the value of num 1 :\"))\n",
        "num_2=int(input(\"Enter the value of num 2 :\"))\n",
        "print(\"----------------------------\")\n",
        "print(\"addition of 2 number is:\",num_1+num_2)\n",
        "print(\"subtraction of 2 number is:\",num_1-num_2)\n",
        "print(\"division of 2 number is:\",num_1/num_2)\n",
        "print(\"product of 2 number is:\",num_1*num_2)\n"
      ]
    },
    {
      "cell_type": "code",
      "execution_count": null,
      "metadata": {
        "id": "wuEWzoTFa_K5"
      },
      "outputs": [],
      "source": [
        "num_1=int(input(\"Enter any number:\"))\n",
        "print(\"----------------------\")\n",
        "if num_1 % 2==0:\n",
        "  print(\"Number is even\")\n",
        "else:\n",
        "  print(\"Number is odd:\")"
      ]
    },
    {
      "cell_type": "code",
      "execution_count": null,
      "metadata": {
        "colab": {
          "base_uri": "https://localhost:8080/"
        },
        "id": "Yz3Cu3o2XBSV",
        "outputId": "e341e2cd-76fb-4ff6-8b0f-5a98f576fb26"
      },
      "outputs": [
        {
          "name": "stdout",
          "output_type": "stream",
          "text": [
            "enter item 1:jclz\n",
            "enter item 2:bcja\n",
            "enter item 3:habcjk\n",
            "enter item 4: bavcj\n",
            "enter item 5:bcajb\n",
            "enter price of item 1:26\n",
            "enter price of item 2:35\n",
            "enter price of item 3:565\n",
            "enter price of item 4:5654\n",
            "enter price of item 5:56\n",
            "      billu da dhaba      \n",
            "__________bill___________\n",
            "jclz = 26\n",
            "bcja = 35\n",
            "habcjk = 565\n",
            " bavcj = 5654\n",
            "bcajb = 56\n",
            "---------------------------\n",
            "enter the discount of item 1:5\n",
            "enter the discount of item 2:6\n",
            "enter the discount of item 3:87\n",
            "enter the discount of item 4:62\n",
            "enter the discount of item 5:3\n",
            "      billu da dhaba      \n",
            "__________bill___________\n",
            "jclz = 26\n",
            "bcja = 35\n",
            "habcjk = 565\n",
            " bavcj = 5654\n",
            "bcajb = 56\n",
            "---------------------------\n",
            "Discount jclz is = 1.75\n",
            "Discount bcja is = 2.1\n",
            "Discount habcjk is = 30.45\n",
            "Discount  bavcj is = 21.7\n",
            "Discount bcajb is = 1.05\n",
            "total discount is= 163\n",
            "total = 6336\n",
            "------------------------\n",
            "extra 6% dicount : 370.38\n",
            "total amount to pay : 5802.62\n"
          ]
        }
      ],
      "source": [
        "item1=input(\"enter item 1:\")\n",
        "price_of_item1=int(input(\"enter price of item 1:\"))\n",
        "discount_item1=int(input(\"enter the discount of item 1:\"))\n",
        "item2=input(\"enter item 2:\")\n",
        "discount_item2=int(input(\"enter the discount of item 2:\"))\n",
        "price_of_item2=int(input(\"enter price of item 2:\"))\n",
        "item3=input(\"enter item 3:\")\n",
        "price_of_item3=int(input(\"enter price of item 3:\"))\n",
        "discount_item3=int(input(\"enter the discount of item 3:\"))\n",
        "item4=input(\"enter item 4:\")\n",
        "price_of_item4=int(input(\"enter price of item 4:\"))\n",
        "discount_item4=int(input(\"enter the discount of item 4:\"))\n",
        "item5=input(\"enter item 5:\")\n",
        "price_of_item5=int(input(\"enter price of item 5:\"))\n",
        "discount_item5=int(input(\"enter the discount of item 5:\"))\n",
        "print(\"      billu da dhaba      \")\n",
        "print(\"__________bill___________\")\n",
        "print(item1,\"=\",price_of_item1)\n",
        "print(item2,\"=\",price_of_item2)\n",
        "print(item3,\"=\",price_of_item3)\n",
        "print(item4,\"=\",price_of_item4)\n",
        "print(item5,\"=\",price_of_item5)\n",
        "print(\"---------------------------\")\n",
        "sum=price_of_item1+price_of_item2+price_of_item3+price_of_item4+price_of_item5\n",
        "print(\"*////////////////////////////*\")\n",
        "discount_of_item1=price_of_item2*(discount_item1/100\n",
        "discount_of_item2=price_of_item2*(discount_item2/100)\n",
        "discount_of_item3=price_of_item2*(discount_item3/100)\n",
        "discount_of_item4=price_of_item2*(discount_item4/100)\n",
        "discount_of_item5=price_of_item2*(discount_item5/100)\n",
        "print(\"      billu da dhaba      \")\n",
        "print(\"__________bill___________\")\n",
        "print(item1,\"=\",price_of_item1)\n",
        "print(item2,\"=\",price_of_item2)\n",
        "print(item3,\"=\",price_of_item3)\n",
        "print(item4,\"=\",price_of_item4)\n",
        "print(item5,\"=\",price_of_item5)\n",
        "print(\"---------------------------\")\n",
        "print(\"Discount\",item1, \"is =\",discount_of_item1)\n",
        "print(\"Discount\",item2, \"is =\",discount_of_item2)\n",
        "print(\"Discount\",item3, \"is =\",discount_of_item3)\n",
        "print(\"Discount\",item4, \"is =\",discount_of_item4)\n",
        "print(\"Discount\",item5, \"is =\",discount_of_item5)\n",
        "total_discount=discount_item1+discount_item2+discount_item3+discount_item4+discount_item5\n",
        "print(\"total discount is=\",total_discount)\n",
        "print(\"total =\",sum)\n",
        "print(\"------------------------\")\n",
        "grand_total=sum-total_discount\n",
        "if grand_total > 300:\n",
        "  discount_5=grand_total*(6/100)\n",
        "\n",
        "  print(\"extra 6% dicount :\",discount_5)\n",
        "  print(\"total amount to pay :\",grand_total-discount_5)\n",
        "else:\n",
        "  print(\"total amount to pay\",grand_total)"
      ]
    },
    {
      "cell_type": "code",
      "execution_count": null,
      "metadata": {
        "id": "5X-6WD6LflDG"
      },
      "outputs": [],
      "source": [
        "discount_of_Product1=price_of_Product2*(discount_Product1/100)\n",
        "discount_of_Product2=price_of_Product2*(discount_Product2/100)\n",
        "discount_of_Product3=price_of_Product2*(discount_Product3/100)\n",
        "discount_of_Product4=price_of_Product2*(discount_Product4/100)\n",
        "discount_of_Product5=price_of_Product2*(discount_Product5/100)"
      ]
    },
    {
      "cell_type": "code",
      "execution_count": 7,
      "metadata": {
        "colab": {
          "base_uri": "https://localhost:8080/"
        },
        "id": "PyjC4au0kM33",
        "outputId": "afd5f2f2-fbdf-4ac2-dcf6-989ab5997831"
      },
      "outputs": [
        {
          "output_type": "stream",
          "name": "stdout",
          "text": [
            "enter Product 1:shoes\n",
            "enter Product 2:shirt\n",
            "enter Product 3:track pants\n",
            "enter Product 4:samsung ss 25 ultra\n",
            "enter Product 5:watch \n",
            "Enter qty of product 1:2\n",
            "Enter qty of product 2:3\n",
            "Enter qty of product 3:4\n",
            "Enter qty of product 4:1\n",
            "Enter qty of product 5:1\n",
            "enter price of item 1:2500\n",
            "enter price of item 2:1200\n",
            "enter price of item 3:900\n",
            "enter price of item 4:15999\n",
            "enter price of item 5:150000\n",
            "enter the discount of item 1:5\n",
            "enter the discount of item 2:4\n",
            "enter the discount of item 3:6\n",
            "enter the discount of item 4:22\n",
            "enter the discount of item 5:32\n",
            "__________________________\n",
            "          amazon.in       \n",
            "\n",
            " -----------Cart----------\n",
            " --item 1---\n",
            "Product name:  shoes \n",
            "Price of product:  2500 \n",
            "Discounted Price:  2375.0 \n",
            "Qty:  2 \n",
            "Total:  4750.0\n",
            " --item 2---\n",
            "Product name:  shirt \n",
            "Price of product:  1200 \n",
            "Discounted Price:  1152.0 \n",
            "Qty:  3 \n",
            "Total:  3456.0\n",
            " --item 3---\n",
            "Product name:  track pants \n",
            "Price of product:  900 \n",
            "Discounted Price:  846.0 \n",
            "Qty:  4 \n",
            "Total:  3384.0\n",
            " --item 4---\n",
            "Product name:  samsung ss 25 ultra \n",
            "Price of product:  15999 \n",
            "Discounted Price:  12479.22 \n",
            "Qty:  1 \n",
            "Total:  12479.22\n",
            " --item 5---\n",
            "Product name:  watch  \n",
            "Price of product:  150000 \n",
            "Discounted Price:  102000.0 \n",
            "Qty:  1 \n",
            "Total:  102000.0\n",
            "_________________________\n",
            "Grand total: 126069.22\n"
          ]
        }
      ],
      "source": [
        "Product1=input(\"enter Product 1:\")\n",
        "Product2=input(\"enter Product 2:\")\n",
        "Product3=input(\"enter Product 3:\")\n",
        "Product4=input(\"enter Product 4:\")\n",
        "Product5=input(\"enter Product 5:\")\n",
        "qty_Product1=int(input(\"Enter qty of product 1:\"))\n",
        "qty_Product2=int(input(\"Enter qty of product 2:\"))\n",
        "qty_Product3=int(input(\"Enter qty of product 3:\"))\n",
        "qty_Product4=int(input(\"Enter qty of product 4:\"))\n",
        "qty_Product5=int(input(\"Enter qty of product 5:\"))\n",
        "price_of_Product1=int(input(\"enter price of item 1:\"))\n",
        "price_of_Product2=int(input(\"enter price of item 2:\"))\n",
        "price_of_Product3=int(input(\"enter price of item 3:\"))\n",
        "price_of_Product4=int(input(\"enter price of item 4:\"))\n",
        "price_of_Product5=int(input(\"enter price of item 5:\"))\n",
        "discount_Product1=int(input(\"enter the discount of item 1:\"))\n",
        "discount_Product2=int(input(\"enter the discount of item 2:\"))\n",
        "discount_Product3=int(input(\"enter the discount of item 3:\"))\n",
        "discount_Product4=int(input(\"enter the discount of item 4:\"))\n",
        "discount_Product5=int(input(\"enter the discount of item 5:\"))\n",
        "discount_of_Product1=price_of_Product1-(price_of_Product1*(discount_Product1/100))\n",
        "discount_of_Product2=price_of_Product2-(price_of_Product2*(discount_Product2/100))\n",
        "discount_of_Product3=price_of_Product3-(price_of_Product3*(discount_Product3/100))\n",
        "discount_of_Product4=price_of_Product4-(price_of_Product4*(discount_Product4/100))\n",
        "discount_of_Product5=price_of_Product5-(price_of_Product5*(discount_Product5/100))\n",
        "total_item1=discount_of_Product1*qty_Product1\n",
        "total_item2=discount_of_Product2*qty_Product2\n",
        "total_item3=discount_of_Product3*qty_Product3\n",
        "total_item4=discount_of_Product4*qty_Product4\n",
        "total_item5=discount_of_Product5*qty_Product5\n",
        "\n",
        "final_total=discount_of_Product1*qty_Product1+discount_of_Product2*qty_Product2+discount_of_Product3*qty_Product3+discount_of_Product4*qty_Product4+discount_of_Product5*qty_Product5\n",
        "sub_total=price_of_Product1+price_of_Product2+price_of_Product3+price_of_Product4+price_of_Product5\n",
        "discount_total=discount_of_Product1+discount_of_Product2+discount_of_Product3+discount_of_Product4+discount_of_Product5\n",
        "total_qty=qty_Product1+qty_Product2+qty_Product3+qty_Product4+qty_Product5\n",
        "print(\"__________________________\")\n",
        "print(\"          amazon.in       \")\n",
        "print(\"\")\n",
        "print(\" -----------Cart----------\")\n",
        "print(\" --item 1---\")\n",
        "print(\"Product name: \",Product1,\"\\nPrice of product: \",price_of_Product1,\"\\nDiscounted Price: \",discount_of_Product1,\"\\nQty: \",qty_Product1,\"\\nTotal: \",total_item1)\n",
        "print(\" --item 2---\")\n",
        "print(\"Product name: \",Product2,\"\\nPrice of product: \",price_of_Product2,\"\\nDiscounted Price: \",discount_of_Product2,\"\\nQty: \",qty_Product2,\"\\nTotal: \",total_item2)\n",
        "print(\" --item 3---\")\n",
        "print(\"Product name: \",Product3,\"\\nPrice of product: \",price_of_Product3,\"\\nDiscounted Price: \",discount_of_Product3,\"\\nQty: \",qty_Product3,\"\\nTotal: \",total_item3)\n",
        "print(\" --item 4---\")\n",
        "print(\"Product name: \",Product4,\"\\nPrice of product: \",price_of_Product4,\"\\nDiscounted Price: \",discount_of_Product4,\"\\nQty: \",qty_Product4,\"\\nTotal: \",total_item4)\n",
        "print(\" --item 5---\")\n",
        "print(\"Product name: \",Product5,\"\\nPrice of product: \",price_of_Product5,\"\\nDiscounted Price: \",discount_of_Product5,\"\\nQty: \",qty_Product5,\"\\nTotal: \",total_item5)\n",
        "print(\"_________________________\")\n",
        "print(\"Grand total:\",final_total)\n"
      ]
    }
  ],
  "metadata": {
    "colab": {
      "provenance": [],
      "authorship_tag": "ABX9TyPxuHnoildsmFl2g8Zes3OA",
      "include_colab_link": true
    },
    "kernelspec": {
      "display_name": "Python 3",
      "name": "python3"
    },
    "language_info": {
      "name": "python"
    }
  },
  "nbformat": 4,
  "nbformat_minor": 0
}