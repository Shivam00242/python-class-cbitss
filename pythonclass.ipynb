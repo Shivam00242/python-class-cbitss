{
  "nbformat": 4,
  "nbformat_minor": 0,
  "metadata": {
    "colab": {
      "provenance": [],
      "authorship_tag": "ABX9TyMWSE/9WXq5tkoLKAjrU+c0",
      "include_colab_link": true
    },
    "kernelspec": {
      "name": "python3",
      "display_name": "Python 3"
    },
    "language_info": {
      "name": "python"
    }
  },
  "cells": [
    {
      "cell_type": "markdown",
      "metadata": {
        "id": "view-in-github",
        "colab_type": "text"
      },
      "source": [
        "<a href=\"https://colab.research.google.com/github/Shivam00242/python-class-cbitss/blob/main/pythonclass.ipynb\" target=\"_parent\"><img src=\"https://colab.research.google.com/assets/colab-badge.svg\" alt=\"Open In Colab\"/></a>"
      ]
    },
    {
      "cell_type": "code",
      "execution_count": null,
      "metadata": {
        "colab": {
          "base_uri": "https://localhost:8080/"
        },
        "id": "urCH55uE-p-6",
        "outputId": "23bc7d36-e625-4841-bf16-03fcd8548f53"
      },
      "outputs": [
        {
          "output_type": "stream",
          "name": "stdout",
          "text": [
            "hi i am shivam\n"
          ]
        }
      ],
      "source": [
        "print(\"hi i am shivam\")"
      ]
    },
    {
      "cell_type": "code",
      "source": [
        "# CODE FOR BIO DATA\n",
        "print(\"------bio data------\")\n",
        "print(\"NAME     :  SHIVAM\")\n",
        "print(\"AGE      :  21\")\n",
        "print(\"CLASS    :  PYTHON\")\n",
        "print(\"address  :  DHARAMSHALA (HP)\")\n",
        "print(\"MOBILE NO:  9418281719\")\n",
        "print(\"EMAIL    :  shivambhatt00242@gmail.com\")\n",
        "print(\"EDUCATION:  BCA GRADUATE\")"
      ],
      "metadata": {
        "colab": {
          "base_uri": "https://localhost:8080/"
        },
        "id": "OhQ6wSB9DqqU",
        "outputId": "77f1f125-6a07-4d53-aabf-a0fd79613944"
      },
      "execution_count": null,
      "outputs": [
        {
          "output_type": "stream",
          "name": "stdout",
          "text": [
            "------bio data------\n",
            "NAME     :  SHIVAM\n",
            "AGE      :  21\n",
            "CLASS    :  PYTHON\n",
            "address  :  DHARAMSHALA (HP)\n",
            "MOBILE NO:  9418281719\n",
            "EMAIL    :  shivambhatt00242@gmail.com\n",
            "EDUCATION:  BCA GRADUATE\n"
          ]
        }
      ]
    },
    {
      "cell_type": "code",
      "source": [
        "Name=\"Shivam\"\n",
        "age= 21\n",
        "address=\"dharamshala (HP)\"\n",
        "print(\" My name is\",Name,\"my age is\",age,\"from\",address)\n"
      ],
      "metadata": {
        "colab": {
          "base_uri": "https://localhost:8080/"
        },
        "id": "qD0DjR--ICVH",
        "outputId": "46f7f77b-5965-4589-d8b1-420a6702eb38"
      },
      "execution_count": null,
      "outputs": [
        {
          "output_type": "stream",
          "name": "stdout",
          "text": [
            " My name is Shivam 21 my age is 21 from dharamshala (HP)\n"
          ]
        }
      ]
    },
    {
      "cell_type": "code",
      "source": [
        "first_num=int(input(\"first number=\"))\n",
        "second_num=int(input(\"second number=\"))\n",
        "sum=first_num+second_num\n",
        "sub=first_num-second_num\n",
        "product=first_num*second_num\n",
        "div=first_num/second_num\n",
        "print(\"sum=\",sum)\n",
        "print(\"subtraction=\",sub)\n",
        "print(\"product=\",product)\n",
        "print(\"division=\",div)\n"
      ],
      "metadata": {
        "colab": {
          "base_uri": "https://localhost:8080/"
        },
        "id": "Ug_5944PH7HJ",
        "outputId": "3a0f3c05-c991-4953-ce39-c6e2c6f1a4a7"
      },
      "execution_count": null,
      "outputs": [
        {
          "output_type": "stream",
          "name": "stdout",
          "text": [
            "first number=500\n",
            "second number=100\n",
            "sum= 600\n",
            "subtraction= 400\n",
            "product= 50000\n",
            "division= 5.0\n"
          ]
        }
      ]
    },
    {
      "cell_type": "code",
      "source": [
        "# 10% discount on grand total\n",
        "item1=\"pizza\"\n",
        "item2=\"coke\"\n",
        "item3=\"chips\"\n",
        "item4=\"dal chawal\"\n",
        "item5=\"tanduri roti\"\n",
        "price_of_item1=250\n",
        "price_of_item2=40\n",
        "price_of_item3=20\n",
        "price_of_item4=150\n",
        "price_of_item5=80\n",
        "print(\"      billu da dhaba      \")\n",
        "print(\"__________bill___________\")\n",
        "print(item1,\"=\",price_of_item1)\n",
        "print(item2,\"=\",price_of_item2)\n",
        "print(item3,\"=\",price_of_item3)\n",
        "print(item4,\"=\",price_of_item4)\n",
        "print(item5,\"=\",price_of_item5)\n",
        "print(\"---------------------------\")\n",
        "sum=price_of_item1+price_of_item2+price_of_item3+price_of_item4+price_of_item5\n",
        "discount=sum*(10/100)\n",
        "print(\"Discount is =\",discount)\n",
        "print(\"total =\",sum)\n",
        "print(\"------------------------\")\n",
        "print(\"total amount to pay=\",sum-discount)\n",
        "\n"
      ],
      "metadata": {
        "colab": {
          "base_uri": "https://localhost:8080/"
        },
        "id": "dRxmNQ9XLhfg",
        "outputId": "d4ca5992-fd4e-43e4-cb65-7b8ba50290d2"
      },
      "execution_count": null,
      "outputs": [
        {
          "output_type": "stream",
          "name": "stdout",
          "text": [
            "      billu da dhaba      \n",
            "__________bill___________\n",
            "pizza = 250\n",
            "coke = 40\n",
            "chips = 20\n",
            "dal chawal = 150\n",
            "tanduri roti = 80\n",
            "---------------------------\n",
            "Discount is = 54.0\n",
            "total = 540\n",
            "------------------------\n",
            "total amount to pay= 486.0\n"
          ]
        }
      ]
    },
    {
      "cell_type": "code",
      "source": [
        "# discount on each item\n",
        "item1=\"pizza\"\n",
        "item2=\"coke\"\n",
        "item3=\"chips\"\n",
        "item4=\"dal chawal\"\n",
        "item5=\"tanduri roti\"\n",
        "price_of_item1=250\n",
        "price_of_item2=40\n",
        "price_of_item3=20\n",
        "price_of_item4=150\n",
        "price_of_item5=80\n",
        "print(\"      billu da dhaba      \")\n",
        "print(\"__________bill___________\")\n",
        "print(item1,\"=\",price_of_item1)\n",
        "print(item2,\"=\",price_of_item2)\n",
        "print(item3,\"=\",price_of_item3)\n",
        "print(item4,\"=\",price_of_item4)\n",
        "print(item5,\"=\",price_of_item5)\n",
        "print(\"---------------------------\")\n",
        "sum=price_of_item1+price_of_item2+price_of_item3+price_of_item4+price_of_item5\n",
        "discount_item1=price_of_item1*(19/100)\n",
        "discount_item2=price_of_item2*(5/100)\n",
        "discount_item3=price_of_item3*(22/100)\n",
        "discount_item4=price_of_item4*(15/100)\n",
        "discount_item5=price_of_item5*(12/100)\n",
        "print(\"Discount\",item1, \"is =\",discount_item1)\n",
        "print(\"Discount\",item2, \"is =\",discount_item2)\n",
        "print(\"Discount\",item3, \"is =\",discount_item3)\n",
        "print(\"Discount\",item4, \"is =\",discount_item4)\n",
        "print(\"Discount\",item5, \"is =\",discount_item5)\n",
        "total_discount=discount_item1+discount_item2+discount_item3+discount_item4+discount_item5\n",
        "print(\"total discount is=\",total_discount)\n",
        "print(\"total =\",sum)\n",
        "print(\"------------------------\")\n",
        "print(\"total amount to pay=\",sum-total_discount)\n",
        "print(\"----------------------\")\n",
        "print(\"Delivery address: House no.3,Janta nagar,\\n  \\t \\t  Punjab,100568\")\n",
        "\n",
        "\n",
        "\n",
        "\n"
      ],
      "metadata": {
        "colab": {
          "base_uri": "https://localhost:8080/"
        },
        "id": "jeyVL5RnL4J8",
        "outputId": "51e4ff3a-8552-4d57-e68d-3ca681d17da1"
      },
      "execution_count": null,
      "outputs": [
        {
          "output_type": "stream",
          "name": "stdout",
          "text": [
            "enter item 1:coke\n",
            "enter item 2:pizza\n",
            "enter item 3:roti\n",
            "enter item 4:dal\n",
            "enter item 5:alu\n",
            "      billu da dhaba      \n",
            "__________bill___________\n",
            "coke = 250\n",
            "pizza = 40\n",
            "roti = 20\n",
            "dal = 150\n",
            "alu = 80\n",
            "---------------------------\n",
            "Discount coke is = 47.5\n",
            "Discount pizza is = 2.0\n",
            "Discount roti is = 4.4\n",
            "Discount dal is = 22.5\n",
            "Discount alu is = 9.6\n",
            "total discount is= 86.0\n",
            "total = 540\n",
            "------------------------\n",
            "total amount to pay= 454.0\n",
            "----------------------\n",
            "Delivery address: House no.3,Janta nagar,\n",
            "  \t \t  Punjab,100568\n"
          ]
        }
      ]
    },
    {
      "cell_type": "code",
      "source": [],
      "metadata": {
        "id": "7W-JDKQHSV8n"
      },
      "execution_count": null,
      "outputs": []
    },
    {
      "cell_type": "code",
      "source": [
        "# if total is more than 300 extra 5% discout\n",
        "item1=\"pizza\"\n",
        "item2=\"coke\"\n",
        "item3=\"chips\"\n",
        "item4=\"dal chawal\"\n",
        "item5=\"tanduri roti\"\n",
        "price_of_item1=250\n",
        "price_of_item2=40\n",
        "price_of_item3=20\n",
        "price_of_item4=150\n",
        "price_of_item5=80\n",
        "print(\"      billu da dhaba      \")\n",
        "print(\"__________bill___________\")\n",
        "print(item1,\"=\",price_of_item1)\n",
        "print(item2,\"=\",price_of_item2)\n",
        "print(item3,\"=\",price_of_item3)\n",
        "print(item4,\"=\",price_of_item4)\n",
        "print(item5,\"=\",price_of_item5)\n",
        "print(\"---------------------------\")\n",
        "sum=price_of_item1+price_of_item2+price_of_item3+price_of_item4+price_of_item5\n",
        "discount_item1=price_of_item1*(19/100)\n",
        "discount_item2=price_of_item2*(5/100)\n",
        "discount_item3=price_of_item3*(22/100)\n",
        "discount_item4=price_of_item4*(15/100)\n",
        "discount_item5=price_of_item5*(12/100)\n",
        "print(\"Discount\",item1, \"is =\",discount_item1)\n",
        "print(\"Discount\",item2, \"is =\",discount_item2)\n",
        "print(\"Discount\",item3, \"is =\",discount_item3)\n",
        "print(\"Discount\",item4, \"is =\",discount_item4)\n",
        "print(\"Discount\",item5, \"is =\",discount_item5)\n",
        "total_discount=discount_item1+discount_item2+discount_item3+discount_item4+discount_item5\n",
        "print(\"total discount is=\",total_discount)\n",
        "print(\"total =\",sum)\n",
        "print(\"------------------------\")\n",
        "grand_total=sum-total_discount\n",
        "if grand_total > 300:\n",
        "  discount_5=grand_total*(6/100)\n",
        "\n",
        "  print(\"extra 6% dicount :\",discount_5)\n",
        "  print(\"total amount to pay :\",grand_total-discount_5)\n",
        "else:\n",
        "  print(\"total amount to pay\",grand_total)\n",
        "\n"
      ],
      "metadata": {
        "colab": {
          "base_uri": "https://localhost:8080/"
        },
        "id": "HBHw1l76R1fd",
        "outputId": "6364fc6b-74e2-4f68-898a-1dbf7132278a"
      },
      "execution_count": null,
      "outputs": [
        {
          "output_type": "stream",
          "name": "stdout",
          "text": [
            "      billu da dhaba      \n",
            "__________bill___________\n",
            "pizza = 250\n",
            "coke = 40\n",
            "chips = 20\n",
            "dal chawal = 150\n",
            "tanduri roti = 80\n",
            "---------------------------\n",
            "Discount pizza is = 47.5\n",
            "Discount coke is = 2.0\n",
            "Discount chips is = 4.4\n",
            "Discount dal chawal is = 22.5\n",
            "Discount tanduri roti is = 9.6\n",
            "total discount is= 86.0\n",
            "total = 540\n",
            "------------------------\n",
            "extra 6% dicount : 27.24\n",
            "total amount to pay : 426.76\n"
          ]
        }
      ]
    },
    {
      "cell_type": "code",
      "source": [
        "item1=input(\"enter item 1:\")\n",
        "item2=input(\"enter item 2:\")\n",
        "item3=input(\"enter item 3:\")\n",
        "item4=input(\"enter item 4:\")\n",
        "item5=input(\"enter item 5:\")\n"
      ],
      "metadata": {
        "colab": {
          "base_uri": "https://localhost:8080/"
        },
        "id": "ki5A-vkIWPLf",
        "outputId": "6e5f8b4f-f4e3-4ea0-8eba-ad43f9db6e6d"
      },
      "execution_count": null,
      "outputs": [
        {
          "name": "stdout",
          "output_type": "stream",
          "text": [
            "enter item 1:chips\n",
            "enter item 2:coke\n",
            "enter item 3:dal roti\n",
            "enter item 4:tanduri roti\n",
            "enter item 5:alu chole\n"
          ]
        }
      ]
    },
    {
      "cell_type": "code",
      "source": [
        "item1=input(\"enter item 1:\")\n",
        "item2=input(\"enter item 2:\")\n",
        "price_item1=int(input(\"Enter the price of item 1:\"))\n",
        "price_item2=int(input(\"Enter the price of item 2:\"))\n",
        "print(\"-------------------------------\")\n",
        "print(\"total bill is :\",price_item1+price_item2)"
      ],
      "metadata": {
        "colab": {
          "base_uri": "https://localhost:8080/"
        },
        "id": "OrOOUAobWtwU",
        "outputId": "d8c5ee54-5ca0-443b-cce6-7bb15faffcf3"
      },
      "execution_count": null,
      "outputs": [
        {
          "output_type": "stream",
          "name": "stdout",
          "text": [
            "enter item 1:pizza\n",
            "enter item 2:chips\n",
            "Enter the price of item 1:562\n",
            "Enter the price of item 2:40\n",
            "-------------------------------\n",
            "total bill is : 602\n"
          ]
        }
      ]
    },
    {
      "cell_type": "code",
      "source": [
        "num_1=int(input(\"Enter the value of num 1 :\"))\n",
        "num_2=int(input(\"Enter the value of num 2 :\"))\n",
        "print(\"----------------------------\")\n",
        "print(\"addition of 2 number is:\",num_1+num_2)\n",
        "print(\"subtraction of 2 number is:\",num_1-num_2)\n",
        "print(\"division of 2 number is:\",num_1/num_2)\n",
        "print(\"product of 2 number is:\",num_1*num_2)\n"
      ],
      "metadata": {
        "colab": {
          "base_uri": "https://localhost:8080/"
        },
        "id": "whp_sI2VYW5g",
        "outputId": "66e7ad64-cfe5-4e35-da14-95ec0f1da222"
      },
      "execution_count": null,
      "outputs": [
        {
          "output_type": "stream",
          "name": "stdout",
          "text": [
            "Enter the value of num 1 :200\n",
            "Enter the value of num 2 :100\n",
            "----------------------------\n",
            "addition of 2 number is: 300\n",
            "subtraction of 2 number is: 100\n",
            "division of 2 number is: 2.0\n",
            "product of 2 number is: 20000\n"
          ]
        }
      ]
    },
    {
      "cell_type": "code",
      "source": [
        "num_1=int(input(\"Enter any number:\"))\n",
        "print(\"----------------------\")\n",
        "if num_1 % 2==0:\n",
        "  print(\"Number is even\")\n",
        "else:\n",
        "  print(\"Number is odd:\")"
      ],
      "metadata": {
        "id": "wuEWzoTFa_K5"
      },
      "execution_count": null,
      "outputs": []
    },
    {
      "cell_type": "code",
      "source": [
        "item1=input(\"enter item 1:\")\n",
        "item2=input(\"enter item 2:\")\n",
        "item3=input(\"enter item 3:\")\n",
        "item4=input(\"enter item 4:\")\n",
        "item5=input(\"enter item 5:\")\n",
        "price_of_item1=int(input(\"enter price of item 1:\"))\n",
        "price_of_item2=int(input(\"enter price of item 2:\"))\n",
        "price_of_item3=int(input(\"enter price of item 3:\"))\n",
        "price_of_item4=int(input(\"enter price of item 4:\"))\n",
        "price_of_item5=int(input(\"enter price of item 5:\"))\n",
        "print(\"      billu da dhaba      \")\n",
        "print(\"__________bill___________\")\n",
        "print(item1,\"=\",price_of_item1)\n",
        "print(item2,\"=\",price_of_item2)\n",
        "print(item3,\"=\",price_of_item3)\n",
        "print(item4,\"=\",price_of_item4)\n",
        "print(item5,\"=\",price_of_item5)\n",
        "print(\"---------------------------\")\n",
        "sum=price_of_item1+price_of_item2+price_of_item3+price_of_item4+price_of_item5\n",
        "discount_item1=int(input(\"enter the discount of item 1:\",))\n",
        "discount_item2=int(input(\"enter the discount of item 2:\"))\n",
        "discount_item3=int(input(\"enter the discount of item 3:\"))\n",
        "discount_item4=int(input(\"enter the discount of item 4:\"))\n",
        "discount_item5=int(input(\"enter the discount of item 5:\"))\n",
        "print(\"*////////////////////////////*\")\n",
        "discount_of_item1=price_of_item2*(discount_item1/100)\n",
        "discount_of_item2=price_of_item2*(discount_item2/100)\n",
        "discount_of_item3=price_of_item2*(discount_item3/100)\n",
        "discount_of_item4=price_of_item2*(discount_item4/100)\n",
        "discount_of_item5=price_of_item2*(discount_item5/100)\n",
        "print(\"      billu da dhaba      \")\n",
        "print(\"__________bill___________\")\n",
        "print(item1,\"=\",price_of_item1)\n",
        "print(item2,\"=\",price_of_item2)\n",
        "print(item3,\"=\",price_of_item3)\n",
        "print(item4,\"=\",price_of_item4)\n",
        "print(item5,\"=\",price_of_item5)\n",
        "print(\"---------------------------\")\n",
        "print(\"Discount\",item1, \"is =\",discount_of_item1)\n",
        "print(\"Discount\",item2, \"is =\",discount_of_item2)\n",
        "print(\"Discount\",item3, \"is =\",discount_of_item3)\n",
        "print(\"Discount\",item4, \"is =\",discount_of_item4)\n",
        "print(\"Discount\",item5, \"is =\",discount_of_item5)\n",
        "total_discount=discount_item1+discount_item2+discount_item3+discount_item4+discount_item5\n",
        "print(\"total discount is=\",total_discount)\n",
        "print(\"total =\",sum)\n",
        "print(\"------------------------\")\n",
        "grand_total=sum-total_discount\n",
        "if grand_total > 300:\n",
        "  discount_5=grand_total*(6/100)\n",
        "\n",
        "  print(\"extra 6% dicount :\",discount_5)\n",
        "  print(\"total amount to pay :\",grand_total-discount_5)\n",
        "else:\n",
        "  print(\"total amount to pay\",grand_total)"
      ],
      "metadata": {
        "colab": {
          "base_uri": "https://localhost:8080/"
        },
        "id": "Yz3Cu3o2XBSV",
        "outputId": "e341e2cd-76fb-4ff6-8b0f-5a98f576fb26"
      },
      "execution_count": 5,
      "outputs": [
        {
          "output_type": "stream",
          "name": "stdout",
          "text": [
            "enter item 1:jclz\n",
            "enter item 2:bcja\n",
            "enter item 3:habcjk\n",
            "enter item 4: bavcj\n",
            "enter item 5:bcajb\n",
            "enter price of item 1:26\n",
            "enter price of item 2:35\n",
            "enter price of item 3:565\n",
            "enter price of item 4:5654\n",
            "enter price of item 5:56\n",
            "      billu da dhaba      \n",
            "__________bill___________\n",
            "jclz = 26\n",
            "bcja = 35\n",
            "habcjk = 565\n",
            " bavcj = 5654\n",
            "bcajb = 56\n",
            "---------------------------\n",
            "enter the discount of item 1:5\n",
            "enter the discount of item 2:6\n",
            "enter the discount of item 3:87\n",
            "enter the discount of item 4:62\n",
            "enter the discount of item 5:3\n",
            "      billu da dhaba      \n",
            "__________bill___________\n",
            "jclz = 26\n",
            "bcja = 35\n",
            "habcjk = 565\n",
            " bavcj = 5654\n",
            "bcajb = 56\n",
            "---------------------------\n",
            "Discount jclz is = 1.75\n",
            "Discount bcja is = 2.1\n",
            "Discount habcjk is = 30.45\n",
            "Discount  bavcj is = 21.7\n",
            "Discount bcajb is = 1.05\n",
            "total discount is= 163\n",
            "total = 6336\n",
            "------------------------\n",
            "extra 6% dicount : 370.38\n",
            "total amount to pay : 5802.62\n"
          ]
        }
      ]
    },
    {
      "cell_type": "code",
      "source": [
        "Product1=\"j\"\n",
        "Product2=\"k\"\n",
        "Product3=\"j\"\n",
        "Product4=\"v\"\n",
        "Product5=\"h\"\n",
        "qty_Product1=5\n",
        "qty_Product2=6\n",
        "qty_Product3=6\n",
        "qty_Product4=6\n",
        "qty_Product5=1\n",
        "price_of_Product1=2000\n",
        "price_of_Product2=30000\n",
        "price_of_Product3=450\n",
        "price_of_Product4=4562\n",
        "price_of_Product5=14546\n",
        "discount_Product1=12\n",
        "discount_Product2=23\n",
        "discount_Product3=6\n",
        "discount_Product4=4\n",
        "discount_Product5=23\n",
        "discount_of_Product1=(price_of_Product2*(discount_Product1/100))-price_of_Product1\n",
        "discount_of_Product2=(price_of_Product2*(discount_Product2/100))-price_of_Product2\n",
        "discount_of_Product3=(price_of_Product2*(discount_Product3/100))-price_of_Product3\n",
        "discount_of_Product4=(price_of_Product2*(discount_Product4/100))-price_of_Product4\n",
        "discount_of_Product5=(price_of_Product2*(discount_Product5/100))-price_of_Product5\n",
        "sum_item1=discount_of_Product1*qty_Product1\n",
        "sum_item2=discount_of_Product2*qty_Product2\n",
        "sum_item3=discount_of_Product3*qty_Product3\n",
        "sum_item4=discount_of_Product4*qty_Product4\n",
        "sum_item5=discount_of_Product5*qty_Product5\n",
        "total_item1=discount_of_Product1*qty_Product1\n",
        "total_item2=discount_of_Product2*qty_Product2\n",
        "total_item3=discount_of_Product3*qty_Product3\n",
        "total_item4=discount_of_Product4*qty_Product4\n",
        "total_item5=discount_of_Product5*qty_Product5\n",
        "\n",
        "final_total=discount_of_Product1*qty_Product1+discount_of_Product2*qty_Product2+discount_of_Product3*qty_Product3+discount_of_Product4*qty_Product4+discount_of_Product5*qty_Product5\n",
        "sub_total=price_of_Product1+price_of_Product2+price_of_Product3+price_of_Product4+price_of_Product5\n",
        "discount_total=discount_of_Product1+discount_of_Product2+discount_of_Product3+discount_of_Product4+discount_of_Product5\n",
        "total_qty=qty_Product1+qty_Product2+qty_Product3+qty_Product4+qty_Product5\n",
        "print(\"__________________________\")\n",
        "print(\"          amazon.in       \")\n",
        "print(\"\")\n",
        "print(\" -----------Cart----------\")\n",
        "print(\"Product Name     Price     Discount Price    Qty    Total \")\n",
        "print( Product1,         \",price_of_Product1,\"       \",discount_of_Product1,\"        \",qty_Product1,\"     \",sum_item1,\"    \",total_item1)\n",
        "print( Product2,\"        \",price_of_Product2,\"       \",discount_of_Product2,\"        \",qty_Product2,\"     \",sum_item2,\"    \",total_item2)\n",
        "print( Product3,\"        \",price_of_Product3,\"       \",discount_of_Product3,\"        \",qty_Product3,\"     \",sum_item3,\"    \",total_item3)\n",
        "print( Product4,\"        \",price_of_Product4,\"       \",discount_of_Product4,\"        \",qty_Product4,\"     \",sum_item4,\"    \",total_item4)\n",
        "print( Product5,\"        \",price_of_Product5,\"       \",discount_of_Product5,\"        \",qty_Product5,\"     \",sum_item5,\"    \",total_item5)\n",
        "print(\"------------------------------------------------------------\")\n",
        "print(\"Sub Total\",\"  \",sub_total,discount_total,\"   \",total_qty,\"      \",final_total)\n",
        "\n"
      ],
      "metadata": {
        "id": "Lfp8iJWmezH_",
        "colab": {
          "base_uri": "https://localhost:8080/"
        },
        "outputId": "27f6b151-2bed-4cf8-cf62-23bf4986a651"
      },
      "execution_count": 7,
      "outputs": [
        {
          "output_type": "stream",
          "name": "stdout",
          "text": [
            "__________________________\n",
            "          amazon.in       \n",
            "\n",
            " -----------Cart----------\n",
            "Product Name     Price     Discount Price    Qty    Total \n",
            "j          2000         1600.0          5       8000.0      8000.0\n",
            "k          30000         -23100.0          6       -138600.0      -138600.0\n",
            "j          450         1350.0          6       8100.0      8100.0\n",
            "v          4562         -3362.0          6       -20172.0      -20172.0\n",
            "h          14546         -7646.0          1       -7646.0      -7646.0\n",
            "------------------------------------------------------------\n",
            "Sub Total    51558 -31158.0     24        -150318.0\n"
          ]
        }
      ]
    },
    {
      "cell_type": "code",
      "source": [
        "discount_of_Product1=price_of_Product2*(discount_Product1/100)\n",
        "discount_of_Product2=price_of_Product2*(discount_Product2/100)\n",
        "discount_of_Product3=price_of_Product2*(discount_Product3/100)\n",
        "discount_of_Product4=price_of_Product2*(discount_Product4/100)\n",
        "discount_of_Product5=price_of_Product2*(discount_Product5/100)"
      ],
      "metadata": {
        "id": "5X-6WD6LflDG"
      },
      "execution_count": null,
      "outputs": []
    },
    {
      "cell_type": "code",
      "source": [
        "Product1=input(\"enter Product 1:\")\n",
        "Product2=input(\"enter Product 2:\")\n",
        "Product3=input(\"enter Product 3:\")\n",
        "Product4=input(\"enter Product 4:\")\n",
        "Product5=input(\"enter Product 5:\")\n",
        "qty_Product1=int(input(\"Enter qty of product 1:\"))\n",
        "qty_Product2=int(input(\"Enter qty of product 2:\"))\n",
        "qty_Product3=int(input(\"Enter qty of product 3:\"))\n",
        "qty_Product4=int(input(\"Enter qty of product 4:\"))\n",
        "qty_Product5=int(input(\"Enter qty of product 5:\"))\n",
        "price_of_Product1=int(input(\"enter price of item 1:\"))\n",
        "price_of_Product2=int(input(\"enter price of item 2:\"))\n",
        "price_of_Product3=int(input(\"enter price of item 3:\"))\n",
        "price_of_Product4=int(input(\"enter price of item 4:\"))\n",
        "price_of_Product5=int(input(\"enter price of item 5:\"))\n",
        "discount_Product1=int(input(\"enter the discount of item 1:\",))\n",
        "discount_Product2=int(input(\"enter the discount of item 2:\"))\n",
        "discount_Product3=int(input(\"enter the discount of item 3:\"))\n",
        "discount_Product4=int(input(\"enter the discount of item 4:\"))\n",
        "discount_Product5=int(input(\"enter the discount of item 5:\"))\n",
        "discount_of_Product1=(price_of_Product1 -(price_of_Product1*(discount_Product1/100)))\n",
        "discount_of_Product2=(price_of_Product2 -(price_of_Product2*(discount_Product2/100)))\n",
        "discount_of_Product3=(price_of_Product3 -(price_of_Product3*(discount_Product3/100)))\n",
        "discount_of_Product4=(price_of_Product4 -(price_of_Product4*(discount_Product4/100)))\n",
        "discount_of_Product5=(price_of_Product5 -(price_of_Product5*(discount_Product5/100)))\n",
        "sum_item1=discount_of_Product1*qty_Product1\n",
        "sum_item2=discount_of_Product2*qty_Product2\n",
        "sum_item3=discount_of_Product3*qty_Product3\n",
        "sum_item4=discount_of_Product4*qty_Product4\n",
        "sum_item5=discount_of_Product5*qty_Product5\n",
        "total_item1=discount_of_Product1*qty_Product1\n",
        "total_item2=discount_of_Product2*qty_Product2\n",
        "total_item3=discount_of_Product3*qty_Product3\n",
        "total_item4=discount_of_Product4*qty_Product4\n",
        "total_item5=discount_of_Product5*qty_Product5\n",
        "\n",
        "final_total=discount_of_Product1*qty_Product1+discount_of_Product2*qty_Product2+discount_of_Product3*qty_Product3+discount_of_Product4*qty_Product4+discount_of_Product5*qty_Product5\n",
        "sub_total=price_of_Product1+price_of_Product2+price_of_Product3+price_of_Product4+price_of_Product5\n",
        "discount_total=discount_of_Product1+discount_of_Product2+discount_of_Product3+discount_of_Product4+discount_of_Product5\n",
        "total_qty=qty_Product1+qty_Product2+qty_Product3+qty_Product4+qty_Product5\n",
        "print(\"__________________________\")\n",
        "print(\"          amazon.in       \")\n",
        "print(\"\")\n",
        "print(\" -----------Cart----------\")\n",
        "print(\"Product Name     Price     Discount Price    Qty    Total \")\n",
        "print( Product1,\"        \",price_of_Product1,\"       \",discount_of_Product1,\"        \",qty_Product1,\"     \",sum_item1)\n",
        "print( Product2,\"        \",price_of_Product2,\"       \",discount_of_Product2,\"        \",qty_Product2,\"     \",sum_item2)\n",
        "print( Product3,\"        \",price_of_Product3,\"       \",discount_of_Product3,\"        \",qty_Product3,\"     \",sum_item3)\n",
        "print( Product4,\"        \",price_of_Product4,\"       \",discount_of_Product4,\"        \",qty_Product4,\"     \",sum_item4)\n",
        "print( Product5,\"        \",price_of_Product5,\"       \",discount_of_Product5,\"        \",qty_Product5,\"     \",sum_item5)\n",
        "print(\"------------------------------------------------------------\")\n",
        "print(\"Sub Total\",\"  \",sub_total,discount_total,\"   \",total_qty,\"      \",final_total)"
      ],
      "metadata": {
        "colab": {
          "base_uri": "https://localhost:8080/"
        },
        "id": "PyjC4au0kM33",
        "outputId": "4391308d-4ab8-44a4-a3ad-53c01bdc78ee"
      },
      "execution_count": 18,
      "outputs": [
        {
          "output_type": "stream",
          "name": "stdout",
          "text": [
            "enter Product 1:asfafa\n",
            "enter Product 2:dfgdsggt\n",
            "enter Product 3:xddfg\n",
            "enter Product 4:cfbfghft\n",
            "enter Product 5:dfbhtfh\n",
            "Enter qty of product 1:1\n",
            "Enter qty of product 2:1\n",
            "Enter qty of product 3:3\n",
            "Enter qty of product 4:1\n",
            "Enter qty of product 5:2\n",
            "enter price of item 1:5412\n",
            "enter price of item 2:2000\n",
            "enter price of item 3:3562\n",
            "enter price of item 4:456210\n",
            "enter price of item 5:4554\n",
            "enter the discount of item 1:21\n",
            "enter the discount of item 2:11\n",
            "enter the discount of item 3:12\n",
            "enter the discount of item 4:13\n",
            "enter the discount of item 5:15\n",
            "__________________________\n",
            "          amazon.in       \n",
            "\n",
            " -----------Cart----------\n",
            "Product Name     Price     Discount Price    Qty    Total \n",
            "asfafa          5412         4275.48          1       4275.48\n",
            "dfgdsggt          2000         1780.0          1       1780.0\n",
            "xddfg          3562         3134.56          3       9403.68\n",
            "cfbfghft          456210         396902.7          1       396902.7\n",
            "dfbhtfh          4554         3870.9          2       7741.8\n",
            "------------------------------------------------------------\n",
            "Sub Total    471738 409963.64     8        420103.66\n"
          ]
        }
      ]
    }
  ]
}