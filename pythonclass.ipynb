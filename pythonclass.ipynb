{
  "nbformat": 4,
  "nbformat_minor": 0,
  "metadata": {
    "colab": {
      "provenance": [],
      "authorship_tag": "ABX9TyOAdLh32Z4BrnoVppzT5o2k",
      "include_colab_link": true
    },
    "kernelspec": {
      "name": "python3",
      "display_name": "Python 3"
    },
    "language_info": {
      "name": "python"
    }
  },
  "cells": [
    {
      "cell_type": "markdown",
      "metadata": {
        "id": "view-in-github",
        "colab_type": "text"
      },
      "source": [
        "<a href=\"https://colab.research.google.com/github/Shivam00242/python-class-cbitss/blob/main/pythonclass.ipynb\" target=\"_parent\"><img src=\"https://colab.research.google.com/assets/colab-badge.svg\" alt=\"Open In Colab\"/></a>"
      ]
    },
    {
      "cell_type": "code",
      "execution_count": null,
      "metadata": {
        "colab": {
          "base_uri": "https://localhost:8080/"
        },
        "id": "urCH55uE-p-6",
        "outputId": "23bc7d36-e625-4841-bf16-03fcd8548f53"
      },
      "outputs": [
        {
          "output_type": "stream",
          "name": "stdout",
          "text": [
            "hi i am shivam\n"
          ]
        }
      ],
      "source": [
        "print(\"hi i am shivam\")"
      ]
    },
    {
      "cell_type": "code",
      "source": [
        "# CODE FOR BIO DATA\n",
        "print(\"------bio data------\")\n",
        "print(\"NAME     :  SHIVAM\")\n",
        "print(\"AGE      :  21\")\n",
        "print(\"CLASS    :  PYTHON\")\n",
        "print(\"address  :  DHARAMSHALA (HP)\")\n",
        "print(\"MOBILE NO:  9418281719\")\n",
        "print(\"EMAIL    :  shivambhatt00242@gmail.com\")\n",
        "print(\"EDUCATION:  BCA GRADUATE\")"
      ],
      "metadata": {
        "colab": {
          "base_uri": "https://localhost:8080/"
        },
        "id": "OhQ6wSB9DqqU",
        "outputId": "77f1f125-6a07-4d53-aabf-a0fd79613944"
      },
      "execution_count": null,
      "outputs": [
        {
          "output_type": "stream",
          "name": "stdout",
          "text": [
            "------bio data------\n",
            "NAME     :  SHIVAM\n",
            "AGE      :  21\n",
            "CLASS    :  PYTHON\n",
            "address  :  DHARAMSHALA (HP)\n",
            "MOBILE NO:  9418281719\n",
            "EMAIL    :  shivambhatt00242@gmail.com\n",
            "EDUCATION:  BCA GRADUATE\n"
          ]
        }
      ]
    },
    {
      "cell_type": "code",
      "source": [
        "Name=\"Shivam\"\n",
        "age= 21\n",
        "address=\"dharamshala (HP)\"\n",
        "print(\" My name is\",Name,\"my age is\",age,\"from\",address)\n"
      ],
      "metadata": {
        "colab": {
          "base_uri": "https://localhost:8080/"
        },
        "id": "qD0DjR--ICVH",
        "outputId": "46f7f77b-5965-4589-d8b1-420a6702eb38"
      },
      "execution_count": null,
      "outputs": [
        {
          "output_type": "stream",
          "name": "stdout",
          "text": [
            " My name is Shivam 21 my age is 21 from dharamshala (HP)\n"
          ]
        }
      ]
    },
    {
      "cell_type": "code",
      "source": [
        "first_num=int(input(\"first number=\"))\n",
        "second_num=int(input(\"second number=\"))\n",
        "sum=first_num+second_num\n",
        "sub=first_num-second_num\n",
        "product=first_num*second_num\n",
        "div=first_num/second_num\n",
        "print(\"sum=\",sum)\n",
        "print(\"subtraction=\",sub)\n",
        "print(\"product=\",product)\n",
        "print(\"division=\",div)\n"
      ],
      "metadata": {
        "colab": {
          "base_uri": "https://localhost:8080/"
        },
        "id": "Ug_5944PH7HJ",
        "outputId": "3a0f3c05-c991-4953-ce39-c6e2c6f1a4a7"
      },
      "execution_count": null,
      "outputs": [
        {
          "output_type": "stream",
          "name": "stdout",
          "text": [
            "first number=500\n",
            "second number=100\n",
            "sum= 600\n",
            "subtraction= 400\n",
            "product= 50000\n",
            "division= 5.0\n"
          ]
        }
      ]
    },
    {
      "cell_type": "code",
      "source": [
        "item1=\"pizza\"\n",
        "item2=\"coke\"\n",
        "item3=\"chips\"\n",
        "item4=\"dal chawal\"\n",
        "item5=\"tanduri roti\"\n",
        "price_of_item1=250\n",
        "price_of_item2=40\n",
        "price_of_item3=20\n",
        "price_of_item4=150\n",
        "price_of_item5=80\n",
        "print(\"      billu da dhaba      \")\n",
        "print(\"__________bill___________\")\n",
        "print(item1,\"=\",price_of_item1)\n",
        "print(item2,\"=\",price_of_item2)\n",
        "print(item3,\"=\",price_of_item3)\n",
        "print(item4,\"=\",price_of_item4)\n",
        "print(item5,\"=\",price_of_item5)\n",
        "print(\"---------------------------\")\n",
        "sum=price_of_item1+price_of_item2+price_of_item3+price_of_item4+price_of_item5\n",
        "discount=sum*(10/100)\n",
        "print(\"Discount is =\",discount)\n",
        "print(\"total =\",sum)\n",
        "print(\"------------------------\")\n",
        "print(\"total amount to pay=\",sum-discount)\n",
        "\n"
      ],
      "metadata": {
        "colab": {
          "base_uri": "https://localhost:8080/"
        },
        "id": "dRxmNQ9XLhfg",
        "outputId": "d4ca5992-fd4e-43e4-cb65-7b8ba50290d2"
      },
      "execution_count": null,
      "outputs": [
        {
          "output_type": "stream",
          "name": "stdout",
          "text": [
            "      billu da dhaba      \n",
            "__________bill___________\n",
            "pizza = 250\n",
            "coke = 40\n",
            "chips = 20\n",
            "dal chawal = 150\n",
            "tanduri roti = 80\n",
            "---------------------------\n",
            "Discount is = 54.0\n",
            "total = 540\n",
            "------------------------\n",
            "total amount to pay= 486.0\n"
          ]
        }
      ]
    },
    {
      "cell_type": "code",
      "source": [
        "item1=\"pizza\"\n",
        "item2=\"coke\"\n",
        "item3=\"chips\"\n",
        "item4=\"dal chawal\"\n",
        "item5=\"tanduri roti\"\n",
        "price_of_item1=250\n",
        "price_of_item2=40\n",
        "price_of_item3=20\n",
        "price_of_item4=150\n",
        "price_of_item5=80\n",
        "print(\"      billu da dhaba      \")\n",
        "print(\"__________bill___________\")\n",
        "print(item1,\"=\",price_of_item1)\n",
        "print(item2,\"=\",price_of_item2)\n",
        "print(item3,\"=\",price_of_item3)\n",
        "print(item4,\"=\",price_of_item4)\n",
        "print(item5,\"=\",price_of_item5)\n",
        "print(\"---------------------------\")\n",
        "sum=price_of_item1+price_of_item2+price_of_item3+price_of_item4+price_of_item5\n",
        "discount_item1=price_of_item1*(19/100)\n",
        "discount_item2=price_of_item2*(5/100)\n",
        "discount_item3=price_of_item3*(22/100)\n",
        "discount_item4=price_of_item4*(15/100)\n",
        "discount_item5=price_of_item5*(12/100)\n",
        "print(\"Discount\",item1, \"is =\",discount_item1)\n",
        "print(\"Discount\",item2, \"is =\",discount_item2)\n",
        "print(\"Discount\",item3, \"is =\",discount_item3)\n",
        "print(\"Discount\",item4, \"is =\",discount_item4)\n",
        "print(\"Discount\",item5, \"is =\",discount_item5)\n",
        "total_discount=discount_item1+discount_item2+discount_item3+discount_item4+discount_item5\n",
        "print(\"total discount is=\",total_discount)\n",
        "print(\"total =\",sum)\n",
        "print(\"------------------------\")\n",
        "print(\"total amount to pay=\",sum-total_discount)\n",
        "\n"
      ],
      "metadata": {
        "colab": {
          "base_uri": "https://localhost:8080/"
        },
        "id": "jeyVL5RnL4J8",
        "outputId": "182d7dfe-6443-4323-be71-6414c4443052"
      },
      "execution_count": 6,
      "outputs": [
        {
          "output_type": "stream",
          "name": "stdout",
          "text": [
            "      billu da dhaba      \n",
            "__________bill___________\n",
            "pizza = 250\n",
            "coke = 40\n",
            "chips = 20\n",
            "dal chawal = 150\n",
            "tanduri roti = 80\n",
            "---------------------------\n",
            "Discount pizza is = 47.5\n",
            "Discount coke is = 2.0\n",
            "Discount chips is = 4.4\n",
            "Discount dal chawal is = 22.5\n",
            "Discount tanduri roti is = 9.6\n",
            "total discount is= 86.0\n",
            "total = 540\n",
            "------------------------\n",
            "total amount to pay= 454.0\n"
          ]
        }
      ]
    }
  ]
}